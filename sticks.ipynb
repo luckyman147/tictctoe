{
 "cells": [
  {
   "cell_type": "code",
   "execution_count": 33,
   "metadata": {},
   "outputs": [],
   "source": [
    "import random\n",
    "class Player:\n",
    "    def __init__(self, name):\n",
    "        self.name=name\n",
    "    def getmove(self,game):\n",
    "        pass\n",
    "            \n",
    "class humanPlayer(Player):\n",
    "    def __init__(self,name):\n",
    "        super().__init__(name)\n",
    "        \n",
    "    def getmove(self,nbstick):\n",
    "        choix=int(input(\"choose a number of  stick(1-3)\"))\n",
    "\n",
    "        while choix not in [1,2,3]:\n",
    "            \n",
    "            \n",
    "            choix=input(\"choose a number of  stick(1-3) :\")\n",
    "\n",
    "        nbstick=nbstick-choix\n",
    "        return nbstick\n",
    "            \n",
    "            \n",
    "        \n",
    "\n",
    "\n",
    "\n",
    "class robotPlayer(Player):\n",
    "    def __init__(self,name):\n",
    "        super().__init__(name)\n",
    "        \n",
    "    def getmove(self,nbstick):\n",
    "       choix=random.choice([1,2,3]) \n",
    "       nbstick-=choix\n",
    "       return nbstick"
   ]
  },
  {
   "cell_type": "code",
   "execution_count": 34,
   "metadata": {},
   "outputs": [
    {
     "data": {
      "text/plain": [
       "'2'"
      ]
     },
     "execution_count": 34,
     "metadata": {},
     "output_type": "execute_result"
    }
   ],
   "source": [
    "\n",
    "\n",
    "def game(nbSt,firstPlayer,secondPlayer,print_game=True):\n",
    "    turn=1\n",
    "    if print_game:\n",
    "        print(\"le jeu commence\")\n",
    "        while nbSt>5:\n",
    "            print('Le nombre de sticks :',nbSt)\n",
    "            if turn ==1:\n",
    "                print( firstPlayer.name ,\"should play \")\n",
    "                nbSt=firstPlayer.getmove(nbSt)\n",
    "                turn=2\n",
    "            else:\n",
    "                print( secondPlayer.name ,\"should play \")\n",
    "\n",
    "                nbSt=secondPlayer.getmove(nbSt)\n",
    "                turn =1\n",
    "        if  nbSt==5 :\n",
    "            print('Le nombre de sticks :',nbSt)\n",
    "\n",
    "            if turn==1:\n",
    "                return secondPlayer.name\n",
    "            else:\n",
    "                return firstPlayer.name\n",
    "        else:   \n",
    "            print('Le nombre de sticks :',nbSt)\n",
    "            \n",
    "            if turn==1:\n",
    "                return firstPlayer.name\n",
    "                \n",
    "            else:\n",
    "                return secondPlayer.name\n",
    "    else:\n",
    "        \n",
    "        while nbSt>5:\n",
    "           \n",
    "            if turn ==1:\n",
    "                \n",
    "                nbSt=firstPlayer.getmove(nbSt)\n",
    "                turn=2\n",
    "            else:\n",
    "            \n",
    "\n",
    "                nbSt=secondPlayer.getmove(nbSt)\n",
    "                turn =1\n",
    "        if  nbSt==5 :\n",
    "          \n",
    "\n",
    "            if turn==1:\n",
    "                return secondPlayer.name\n",
    "            else:\n",
    "                return firstPlayer.name\n",
    "        else:   \n",
    "           \n",
    "            \n",
    "            if turn==1:\n",
    "                return firstPlayer.name\n",
    "                \n",
    "            else:\n",
    "                return secondPlayer.name\n",
    "                    \n",
    "\n"
   ]
  },
  {
   "cell_type": "code",
   "execution_count": 35,
   "metadata": {},
   "outputs": [],
   "source": [
    "firstplayet=robotPlayer('iyed')\n",
    "secplayet=robotPlayer(\"robot\")\n",
    "\n",
    "def sim(firstplayet,secplayet,k):\n",
    "    firstP_count=0\n",
    "    secP_count=0\n",
    "    \n",
    "    for i in range(k):\n",
    "        res=game(20,firstplayet,secplayet,print_game=False)\n",
    "        if res==firstplayet.name:\n",
    "            firstP_count+=1\n",
    "        else :\n",
    "            res==secplayet.name\n",
    "            secP_count+=1\n",
    "       \n",
    "\n",
    "    #X_count=X_count/k*100                \n",
    "    #O_count=O_count/k*100                \n",
    "    #Tie_count=Tie_count/k*100\n",
    "    \n",
    "\n",
    "            \n",
    "    \n",
    "    return {'first player_count':firstP_count,'SecondPlayer_count':secP_count}"
   ]
  },
  {
   "cell_type": "code",
   "execution_count": 36,
   "metadata": {},
   "outputs": [
    {
     "data": {
      "text/plain": [
       "{'first player_count': 17, 'SecondPlayer_count': 13}"
      ]
     },
     "execution_count": 36,
     "metadata": {},
     "output_type": "execute_result"
    }
   ],
   "source": [
    "sim(firstplayet,secplayet,30)"
   ]
  },
  {
   "cell_type": "code",
   "execution_count": 50,
   "metadata": {},
   "outputs": [
    {
     "data": {
      "image/png": "[encoded data removed]",
      "text/plain": [
       "<Figure size 640x480 with 1 Axes>"
      ]
     },
     "metadata": {},
     "output_type": "display_data"
    }
   ],
   "source": [
    "import matplotlib.pyplot as plt \n",
    "import seaborn as sns\n",
    "import pandas as pd \n",
    "import numpy.random as np \n",
    "np.seed(20)\n",
    "res=sim(firstplayet,secplayet,30001)  \n",
    "df= pd.DataFrame(res.items())\n",
    "sns.set_style(\"darkgrid\")\n",
    "sns.barplot(x=0,y=1,data=df,palette=\"Blues\")\n",
    "\n",
    "plt.show()"
   ]
  }
 ],
 "metadata": {
  "kernelspec": {
   "display_name": "Python 3",
   "language": "python",
   "name": "python3"
  },
  "language_info": {
   "codemirror_mode": {
    "name": "ipython",
    "version": 3
   },
   "file_extension": ".py",
   "mimetype": "text/x-python",
   "name": "python",
   "nbconvert_exporter": "python",
   "pygments_lexer": "ipython3",
   "version": "3.9.13"
  },
  "orig_nbformat": 4,
  "vscode": {
   "interpreter": {
    "hash": "81f8468626d1fa97d87454489223650e231444a8e33b87c2f88921550bf1100d"
   }
  }
 },
 "nbformat": 4,
 "nbformat_minor": 2
}
