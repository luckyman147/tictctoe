{
 "cells": [
  {
   "cell_type": "code",
   "execution_count": 21,
   "metadata": {},
   "outputs": [],
   "source": [
    "import math\n",
    "import random\n",
    "\n",
    "import math
import random

class player:
    def __init__(self,letter,name):
        #letter is x or o
        self.letter=letter
        self.name=name
    def getmove(self,game):

        pass
class HumanPlayer(player):
    def __init__(self, letter,name):
        super().__init__(letter,name)

    def get_move(self, game):
        valid_square = False
        val = None
        while not valid_square:
            square = input(self.letter + '\'s turn. Input move (0-9): ')
            try:
                val = int(square)
                if val not in game.available_moves():
                    raise ValueError
                valid_square = True
            except ValueError:
                print('Invalid square. Try again.')
        return val


class RandomComputerPlayer(player):
    def __init__(self, letter,name):
        super().__init__(letter,name)

    def get_move(self, game):
        square = random.choice(game.available_moves())
        return square       

            
        
   ]
  },
  {
   "cell_type": "code",
   "execution_count": null,
   "metadata": {},
   "outputs": [],
   "source": []
  },
  {
   "cell_type": "code",
   "execution_count": 23,
   "metadata": {},
   "outputs": [],
   "source": [
    "\n",
    "\n",
    "import math\n",
    "import time\n",
    "\n",
    "\n",
    "

import math
import time
from player import HumanPlayer, RandomComputerPlayer





class TicTacToe():
    def __init__(self):
        self.board = self.make_board()
        self.current_winner = None

    @staticmethod
    def make_board():
        return [' ' for _ in range(9)]

    def print_board(self):
        for row in [self.board[i*3:(i+1) * 3] for i in range(3)]:
            print('| ' + ' | '.join(row) + ' |')

    @staticmethod
    def print_board_nums():
        # 0 | 1 | 2
        number_board = [[str(i) for i in range(j*3, (j+1)*3)] for j in range(3)]
        for row in number_board:
            print('| ' + ' | '.join(row) + ' |')

    def make_move(self, square, letter):
        if self.board[square] == ' ':
            self.board[square] = letter
            if self.winner(square, letter):
                self.current_winner = letter
            return True
        return False

    def winner(self, square, letter):
        # check the row
        row_ind = math.floor(square / 3)
        row = self.board[row_ind*3:(row_ind+1)*3]
        # print('row', row)
        if all([s == letter for s in row]):
            return True
        col_ind = square % 3
        column = [self.board[col_ind+i*3] for i in range(3)]
        # print('col', column)
        if all([s == letter for s in column]):
            return True
        if square % 2 == 0:
            diagonal1 = [self.board[i] for i in [0, 4, 8]]
            # print('diag1', diagonal1)
            if all([s == letter for s in diagonal1]):
                return True
            diagonal2 = [self.board[i] for i in [2, 4, 6]]
            # print('diag2', diagonal2)
            if all([s == letter for s in diagonal2]):
                return True
        return False

    def empty_squares(self):
        return ' ' in self.board

    def num_empty_squares(self):
        return self.board.count(' ')

    def available_moves(self):
        return [i for i, x in enumerate(self.board) if x == " "]


def play(game, x_player, o_player, print_game=True):

    if print_game:
        game.print_board_nums()

    letter = 'X'
    while game.empty_squares():
        if letter == 'O':
            square = o_player.get_move(game)
        else:
            square = x_player.get_move(game)
        if game.make_move(square, letter):

            if print_game:
                print(letter + ' makes a move to square {}'.format(square))
                game.print_board()
                print('')

            if game.current_winner:
                if print_game:
                    if letter=='X':
                        
                        print(x_player.name + ' wins!')
                    else:
                        print(o_player.name + ' wins!')
                        
                return letter  # ends the loop and exits the game
            letter = 'O' if letter == 'X' else 'X'  # switches player

        time.sleep(.8)

    if print_game:
        print('It\'s a tie!')


    "\n",
    "\n",
    "\n",
    "\n"
   ]
  },
  {
   "cell_type": "code",
   "execution_count": 24,
   "metadata": {},
   "outputs": [
    {
     "name": "stdout",
     "output_type": "stream",
     "text": [
      "| 0 | 1 | 2 |\n",
      "| 3 | 4 | 5 |\n",
      "| 6 | 7 | 8 |\n",
      "Invalid square. Try again.\n",
      "Invalid square. Try again.\n",
      "Invalid square. Try again.\n",
      "Invalid square. Try again.\n",
      "Invalid square. Try again.\n",
      "Invalid square. Try again.\n",
      "X makes a move to square 0\n",
      "| X | - | - |\n",
      "| - | - | - |\n",
      "| - | - | - |\n",
      "\n",
      "O makes a move to square 7\n",
      "| X | - | - |\n",
      "| - | - | - |\n",
      "| - | O | - |\n",
      "\n",
      "X makes a move to square 3\n",
      "| X | - | - |\n",
      "| X | - | - |\n",
      "| - | O | - |\n",
      "\n",
      "O makes a move to square 5\n",
      "| X | - | - |\n",
      "| X | - | O |\n",
      "| - | O | - |\n",
      "\n",
      "Invalid square. Try again.\n",
      "Invalid square. Try again.\n",
      "Invalid square. Try again.\n",
      "X makes a move to square 4\n",
      "| X | - | - |\n",
      "| X | X | O |\n",
      "| - | O | - |\n",
      "\n",
      "O makes a move to square 1\n",
      "| X | O | - |\n",
      "| X | X | O |\n",
      "| - | O | - |\n",
      "\n",
      "Invalid square. Try again.\n",
      "X makes a move to square 2\n",
      "| X | O | X |\n",
      "| X | X | O |\n",
      "| - | O | - |\n",
      "\n",
      "O makes a move to square 8\n",
      "| X | O | X |\n",
      "| X | X | O |\n",
      "| - | O | O |\n",
      "\n",
      "Invalid square. Try again.\n",
      "Invalid square. Try again.\n",
      "Invalid square. Try again.\n",
      "Invalid square. Try again.\n",
      "Invalid square. Try again.\n",
      "X makes a move to square 6\n",
      "| X | O | X |\n",
      "| X | X | O |\n",
      "| X | O | O |\n",
      "\n",
      "X wins!\n"
     ]
    },
    {
     "data": {
      "text/plain": [
       "'X'"
      ]
     },
     "execution_count": 24,
     "metadata": {},
     "output_type": "execute_result"
    }
   ],
   "source": [
  
x_player=HumanPlayer('X','cheikh')
o_player=HumanPlayer('O','iyed')
t=TicTacToe()
play(t,x_player,o_player,print_game=True)
   ]
  },
  {
   "cell_type": "code",
   "execution_count": 17,
   "metadata": {},
   "outputs": [
    {
     "data": {
      "text/plain": [
       "['-', 'X', '-', '-', '-', '-', '-', '-', '-']"
      ]
     },
     "execution_count": 17,
     "metadata": {},
     "output_type": "execute_result"
    }
   ],
   "source": [
    "board=[\"-\" for _ in range(9)]\n",
    "board[1] = \"X\" if board[1] == \"-\" else \"\"\n",
    "board"
   ]
  }
 ],
 "metadata": {
  "kernelspec": {
   "display_name": "Python 3.9.13 64-bit (microsoft store)",
   "language": "python",
   "name": "python3"
  },
  "language_info": {
   "codemirror_mode": {
    "name": "ipython",
    "version": 3
   },
   "file_extension": ".py",
   "mimetype": "text/x-python",
   "name": "python",
   "nbconvert_exporter": "python",
   "pygments_lexer": "ipython3",
   "version": "3.9.13"
  },
  "orig_nbformat": 4,
  "vscode": {
   "interpreter": {
    "hash": "81f8468626d1fa97d87454489223650e231444a8e33b87c2f88921550bf1100d"
   }
  }
 },
 "nbformat": 4,
 "nbformat_minor": 2
}
